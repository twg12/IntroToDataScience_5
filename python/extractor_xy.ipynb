{
 "cells": [
  {
   "cell_type": "code",
   "execution_count": 2,
   "metadata": {},
   "outputs": [
    {
     "name": "stdout",
     "output_type": "stream",
     "text": [
      "['A2200005', 'A2200011', 'A2200008', 'A2200038', 'A2200003', 'A2200007', 'A2200012', 'A2200046', 'A2200037', 'A2200002', 'A2200015', 'A2200024', 'A2200001', 'A2200048', 'A2201730', 'A2200009', 'A2200013', 'A2200004', 'E2200026', 'A2200014', 'E2200025', 'A2200016', 'A2100042', 'A2100047', 'A2100033', 'A2100049', 'A2100038', 'A2100007', 'A2100155', 'A2100039', 'A2100054', 'A2100048', 'A2100053', 'A2100006', 'A2100041', 'A2100044', 'A2100037', 'A2100052', 'A2100005', 'A2100050', 'A2100055', 'A2100001', 'A2100258', 'A2100025', 'A2100030', 'A2100016', 'A2100011', 'A2100002', 'A2100032', 'A2100009', 'A2100012', 'A2100027', 'A2100013', 'A2100008', 'A2100017', 'A2100021', 'A2100003', 'A2100014', 'A2100045', 'A2100305', 'A2100004', 'A2100015', 'A2100134', 'A2100089', 'A2100194', 'E2100187', 'A2100024', 'A2114449', 'A2100020', 'A2100029', 'A2100122', 'A2100019', 'A2100034', 'A2100040', 'A2100150', 'A2100043', 'A2100193', 'A2100035', 'A2100309', 'A2100028', 'A2100022', 'A2113246', 'A2100036', 'A2100031', 'A2116761', 'A2100046', 'A2100018', 'A2115699', 'A2800008', 'A2800005', 'A2800022', 'A2800032', 'A2803677', 'A2800010', 'A2800016', 'A2800014', 'A2800006', 'A2800094', 'A2800057', 'A2800068', 'A2800101', 'A2800011', 'A2803301', 'A2800019', 'A2800090', 'A2800001', 'A2800084', 'A2800015', 'A2800043', 'A2800037', 'A2800003', 'A2800062', 'A2800025', 'A2800017', 'A2800009', 'A2800020', 'A2803505', 'A2800007', 'A2800012', 'A2800004', 'A2800021', 'A2800092', 'A2800080', 'A2800055', 'A2700019', 'A2700036', 'A2700003', 'A2700070', 'A2700013', 'A2700007', 'A2700015', 'A2700018', 'A2700012', 'A2700006', 'A2700067', 'A2700009', 'A2700011', 'A2700030', 'A2700004', 'A2700014', 'A2700001', 'A2700031', 'A2702752', 'A2700017', 'A2700023', 'E2700553', 'A2700052', 'A2700063', 'A2700038', 'E2700554', 'A2700016', 'A2700002', 'A2700008', 'A2702563', 'A2700005', 'A1500006', 'A1500019', 'A1500017', 'A1500018', 'A1500004', 'A1500011', 'A1500013', 'A1500009', 'A1500021', 'A1500002', 'A1500001', 'A1500015', 'A1500010', 'A1500003', 'A1500005', 'A1500007', 'A1500020', 'A1500022', 'A1500016', 'A1500014', 'A1300034', 'A1300004', 'A1300001', 'A1300006', 'A1300003', 'A1300110', 'A1300011', 'A1300045', 'A1300038', 'A1300009', 'A1300005', 'A1300010', 'A1300007', 'A1300081', 'A1300008', 'A1300002', 'A1600009', 'A1600004', 'A1600003', 'A1602246', 'A1600006', 'A1600002', 'A1600007', 'A1600005', 'A1600008', 'A1600001', 'A1200028', 'A1200015', 'A1200013', 'A1200026', 'A1200017', 'A1200011', 'A1200018', 'A1200009', 'A1200020', 'A1200001', 'A1200019', 'A1200025', 'A1200045', 'A1200006', 'A1200005', 'A1200016', 'A1200004', 'A1200002', 'A1200003', 'A1200021', 'A1200008', 'A1200007', 'A1200024', 'A1200012', 'A1200014', 'A1200023', 'A1205143', 'A1200022', 'A1100015', 'A1100010', 'A1100043', 'A1100028', 'A1100053', 'A1100030', 'A1120796', 'A1100036', 'A1100041', 'A1100002', 'A1100051', 'A1100026', 'A1100014', 'A1100049', 'A1100027', 'A1100016', 'A1100048', 'A1100020', 'A1100001', 'A1100021', 'A1100022', 'A1100050', 'A1100040', 'A1100003', 'A1100007', 'A1100025', 'A1100012', 'A1100013', 'A1100008', 'A1100039', 'A1100009', 'A1100019', 'A1100223', 'A1100005', 'A1100011', 'A1100024', 'A1100037', 'A1100055', 'A1100054', 'A1100004', 'A1121013', 'A1100023', 'A1100017', 'A1100006', 'A1100029', 'A1100032', 'A1100033', 'A1100075', 'A1100044', 'A1100035', 'A1800417', 'A1700028', 'A1700011', 'A1700003', 'A1700004', 'A1700025', 'A1700001', 'A1701489', 'A1700002', 'A1403617', 'A1403372', 'A1400014', 'A1400001', 'A1400017', 'A1400007', 'A1400004', 'A1400016', 'A1400012', 'A1400032', 'A1400013', 'A1400015', 'A1400005', 'A1400003', 'A1400010', 'A1400008', 'A1400011', 'A1400037', 'A1400009', 'A1400002', 'A2600050', 'A2600018', 'A2600068', 'A2600029', 'A2600006', 'A2600061', 'A2600016', 'A2600054', 'A2600053', 'A2600007', 'A2600020', 'A2600011', 'A2600017', 'A2600022', 'A2600003', 'A2600052', 'A2600066', 'A2600008', 'A2600056', 'A2600019', 'A2600005', 'A2600012', 'A2600051', 'A2600014', 'A2600027', 'A2600010', 'A2600034', 'A2600015', 'A2600032', 'A2600035', 'A2600021', 'A2600037', 'A2600040', 'A2600077', 'A2600009', 'A2600001', 'A2600048', 'A2500009', 'A2500007', 'A2500012', 'A2500004', 'E2500019', 'A2500018', 'A2500010', 'E2500021', 'A2500001', 'A2500011', 'E2500022', 'E2500020', 'A2500002', 'A2500056', 'A2501890', 'A2500006', 'A2500005', 'A2500008', 'A2502031', 'A2900002', 'A2900001', 'A2900003', 'A2900007', 'A2900005', 'A2900006', 'A2400010', 'A2400009', 'A2400008', 'A2400011', 'A2400038', 'A2400003', 'A2400006', 'A2400044', 'A2402257', 'A2400002', 'A2400001', 'A2400005', 'A2400012', 'E2400032', 'E2400033', 'A2400007', 'A2300034', 'A2300030', 'A2300011', 'A2300015', 'A2300009', 'A2300005', 'A2300013', 'A2300007', 'A2300003', 'A2300001', 'A2300006', 'A2300008', 'A2300002', 'A2302011', 'A2300010', 'A2300004']\n"
     ]
    }
   ],
   "source": [
    "import urllib.request\n",
    "import json\n",
    "import pandas as pd\n",
    "import requests\n",
    "from bs4 import BeautifulSoup\n",
    "\n",
    "from pandas.io.json import json_normalize\n",
    "\n",
    "\n",
    "url = 'http://apis.data.go.kr/B552657/ErmctInfoInqireService/getEmrrmRltmUsefulSckbdInfoInqire?serviceKey=rdmH5XR5ycW9emHC9D56bNydZrvc6546Z0fxlqCdCPc4RpWZ99GMoGoRIKRabGJKz2WFcTwN9ekSTfCvzzhiYA%3D%3D&pageNo=1&numOfRows=402'\n",
    "req = requests.get(url)\n",
    "html = req.text\n",
    "soup = BeautifulSoup(html, 'html.parser')\n",
    "\n",
    "    # Get hpid list\n",
    "hpid = soup.find_all('hpid')\n",
    "hpid_list = list(map(lambda x: x.text, hpid))\n",
    "print(hpid_list)\n",
    "    # 'A2200011'\n",
    "\n",
    "\n",
    "\n"
   ]
  },
  {
   "cell_type": "code",
   "execution_count": 49,
   "metadata": {},
   "outputs": [
    {
     "name": "stdout",
     "output_type": "stream",
     "text": [
      "<hpid>A2200011</hpid> <dutyname>강원도강릉의료원</dutyname> <wgs84lat>37.74931042017154</wgs84lat> <wgs84lon>128.8887963251862</wgs84lon>\n"
     ]
    }
   ],
   "source": [
    "\n",
    "url2 = 'http://apis.data.go.kr/B552657/ErmctInfoInqireService/getEgytBassInfoInqire?serviceKey=rdmH5XR5ycW9emHC9D56bNydZrvc6546Z0fxlqCdCPc4RpWZ99GMoGoRIKRabGJKz2WFcTwN9ekSTfCvzzhiYA%3D%3D&HPID=A2200011&pageNo=1&numOfRows=1&'\n",
    "req2 = requests.get(url2)\n",
    "html = req2.text\n",
    "soup = BeautifulSoup(html, 'html.parser')\n",
    "hpid2 = soup.find('hpid')\n",
    "hname = soup.find('dutyname')\n",
    "x_coord = soup.find('wgs84lat')\n",
    "y_coord = soup.find('wgs84lon')\n",
    "\n",
    "\n",
    "    #    return hpid2, hname\n"
   ]
  },
  {
   "cell_type": "code",
   "execution_count": 3,
   "metadata": {},
   "outputs": [
    {
     "data": {
      "text/html": [
       "<div>\n",
       "<style scoped>\n",
       "    .dataframe tbody tr th:only-of-type {\n",
       "        vertical-align: middle;\n",
       "    }\n",
       "\n",
       "    .dataframe tbody tr th {\n",
       "        vertical-align: top;\n",
       "    }\n",
       "\n",
       "    .dataframe thead th {\n",
       "        text-align: right;\n",
       "    }\n",
       "</style>\n",
       "<table border=\"1\" class=\"dataframe\">\n",
       "  <thead>\n",
       "    <tr style=\"text-align: right;\">\n",
       "      <th></th>\n",
       "      <th>hpid</th>\n",
       "      <th>hname</th>\n",
       "      <th>x_coord</th>\n",
       "      <th>y_coord</th>\n",
       "    </tr>\n",
       "  </thead>\n",
       "  <tbody>\n",
       "  </tbody>\n",
       "</table>\n",
       "</div>"
      ],
      "text/plain": [
       "Empty DataFrame\n",
       "Columns: [hpid, hname, x_coord, y_coord]\n",
       "Index: []"
      ]
     },
     "execution_count": 3,
     "metadata": {},
     "output_type": "execute_result"
    }
   ],
   "source": [
    "df = pd.DataFrame(columns=['hpid', 'hname','x_coord','y_coord'])\n",
    "df"
   ]
  },
  {
   "cell_type": "code",
   "execution_count": 5,
   "metadata": {},
   "outputs": [
    {
     "ename": "AttributeError",
     "evalue": "'NoneType' object has no attribute 'text'",
     "output_type": "error",
     "traceback": [
      "\u001b[1;31m---------------------------------------------------------------------------\u001b[0m",
      "\u001b[1;31mAttributeError\u001b[0m                            Traceback (most recent call last)",
      "\u001b[1;32m<ipython-input-5-304ad4f9c22f>\u001b[0m in \u001b[0;36m<module>\u001b[1;34m\u001b[0m\n\u001b[0;32m      4\u001b[0m     \u001b[0mhtml2\u001b[0m \u001b[1;33m=\u001b[0m \u001b[0mreq2\u001b[0m\u001b[1;33m.\u001b[0m\u001b[0mtext\u001b[0m\u001b[1;33m\u001b[0m\u001b[1;33m\u001b[0m\u001b[0m\n\u001b[0;32m      5\u001b[0m     \u001b[0msoup2\u001b[0m \u001b[1;33m=\u001b[0m \u001b[0mBeautifulSoup\u001b[0m\u001b[1;33m(\u001b[0m\u001b[0mhtml2\u001b[0m\u001b[1;33m,\u001b[0m \u001b[1;34m'html.parser'\u001b[0m\u001b[1;33m)\u001b[0m\u001b[1;33m\u001b[0m\u001b[1;33m\u001b[0m\u001b[0m\n\u001b[1;32m----> 6\u001b[1;33m     \u001b[0mhpid2\u001b[0m \u001b[1;33m=\u001b[0m \u001b[0msoup2\u001b[0m\u001b[1;33m.\u001b[0m\u001b[0mfind\u001b[0m\u001b[1;33m(\u001b[0m\u001b[1;34m'hpid'\u001b[0m\u001b[1;33m)\u001b[0m\u001b[1;33m.\u001b[0m\u001b[0mtext\u001b[0m\u001b[1;33m\u001b[0m\u001b[1;33m\u001b[0m\u001b[0m\n\u001b[0m\u001b[0;32m      7\u001b[0m     \u001b[0mhname\u001b[0m \u001b[1;33m=\u001b[0m \u001b[0msoup2\u001b[0m\u001b[1;33m.\u001b[0m\u001b[0mfind\u001b[0m\u001b[1;33m(\u001b[0m\u001b[1;34m'dutyname'\u001b[0m\u001b[1;33m)\u001b[0m\u001b[1;33m.\u001b[0m\u001b[0mtext\u001b[0m\u001b[1;33m\u001b[0m\u001b[1;33m\u001b[0m\u001b[0m\n\u001b[0;32m      8\u001b[0m     \u001b[0mx_coord\u001b[0m \u001b[1;33m=\u001b[0m \u001b[0msoup2\u001b[0m\u001b[1;33m.\u001b[0m\u001b[0mfind\u001b[0m\u001b[1;33m(\u001b[0m\u001b[1;34m'wgs84lat'\u001b[0m\u001b[1;33m)\u001b[0m\u001b[1;33m.\u001b[0m\u001b[0mtext\u001b[0m\u001b[1;33m\u001b[0m\u001b[1;33m\u001b[0m\u001b[0m\n",
      "\u001b[1;31mAttributeError\u001b[0m: 'NoneType' object has no attribute 'text'"
     ]
    }
   ],
   "source": [
    "for pid in hpid_list:\n",
    "    url2 = 'http://apis.data.go.kr/B552657/ErmctInfoInqireService/getEgytBassInfoInqire?serviceKey=rdmH5XR5ycW9emHC9D56bNydZrvc6546Z0fxlqCdCPc4RpWZ99GMoGoRIKRabGJKz2WFcTwN9ekSTfCvzzhiYA%3D%3D&HPID=' + pid + '&pageNo=1&numOfRows=1&'\n",
    "    req2 = requests.get(url2)\n",
    "    html2 = req2.text\n",
    "    soup2 = BeautifulSoup(html2, 'html.parser')\n",
    "    hpid2 = soup2.find('hpid').text\n",
    "    hname = soup2.find('dutyname').text\n",
    "    x_coord = soup2.find('wgs84lat').text\n",
    "    y_coord = soup2.find('wgs84lon').text\n",
    "    \n",
    "    \n",
    "\n",
    "    df= df.append({'hpid': hpid2,\n",
    "                   'hname': hname,\n",
    "                   'x_coord': x_coord,\n",
    "                   'y_coord': y_coord\n",
    "                   }, ignore_index=True)\n"
   ]
  },
  {
   "cell_type": "code",
   "execution_count": 143,
   "metadata": {},
   "outputs": [
    {
     "data": {
      "text/html": [
       "<div>\n",
       "<style scoped>\n",
       "    .dataframe tbody tr th:only-of-type {\n",
       "        vertical-align: middle;\n",
       "    }\n",
       "\n",
       "    .dataframe tbody tr th {\n",
       "        vertical-align: top;\n",
       "    }\n",
       "\n",
       "    .dataframe thead th {\n",
       "        text-align: right;\n",
       "    }\n",
       "</style>\n",
       "<table border=\"1\" class=\"dataframe\">\n",
       "  <thead>\n",
       "    <tr style=\"text-align: right;\">\n",
       "      <th></th>\n",
       "      <th>hpid</th>\n",
       "      <th>hname</th>\n",
       "      <th>x_coord</th>\n",
       "      <th>y_coord</th>\n",
       "      <th>new</th>\n",
       "    </tr>\n",
       "  </thead>\n",
       "  <tbody>\n",
       "    <tr>\n",
       "      <td>0</td>\n",
       "      <td>A2200005</td>\n",
       "      <td>의료법인강릉동인병원</td>\n",
       "      <td>37.774326</td>\n",
       "      <td>128.907142</td>\n",
       "      <td>[(37.77432579461282, 128.90714180258507), (37....</td>\n",
       "    </tr>\n",
       "    <tr>\n",
       "      <td>1</td>\n",
       "      <td>A2200011</td>\n",
       "      <td>강원도강릉의료원</td>\n",
       "      <td>37.749310</td>\n",
       "      <td>128.888796</td>\n",
       "      <td>[(37.77432579461282, 128.90714180258507), (37....</td>\n",
       "    </tr>\n",
       "    <tr>\n",
       "      <td>2</td>\n",
       "      <td>A2200008</td>\n",
       "      <td>강릉아산병원</td>\n",
       "      <td>37.818427</td>\n",
       "      <td>128.857714</td>\n",
       "      <td>[(37.77432579461282, 128.90714180258507), (37....</td>\n",
       "    </tr>\n",
       "    <tr>\n",
       "      <td>3</td>\n",
       "      <td>A2200038</td>\n",
       "      <td>근로복지공단동해병원</td>\n",
       "      <td>37.532323</td>\n",
       "      <td>129.105856</td>\n",
       "      <td>[(37.77432579461282, 128.90714180258507), (37....</td>\n",
       "    </tr>\n",
       "    <tr>\n",
       "      <td>4</td>\n",
       "      <td>A2200003</td>\n",
       "      <td>의료법인동해동인병원</td>\n",
       "      <td>37.530007</td>\n",
       "      <td>129.107404</td>\n",
       "      <td>[(37.77432579461282, 128.90714180258507), (37....</td>\n",
       "    </tr>\n",
       "    <tr>\n",
       "      <td>...</td>\n",
       "      <td>...</td>\n",
       "      <td>...</td>\n",
       "      <td>...</td>\n",
       "      <td>...</td>\n",
       "      <td>...</td>\n",
       "    </tr>\n",
       "    <tr>\n",
       "      <td>407</td>\n",
       "      <td>A2300008</td>\n",
       "      <td>청주성모병원</td>\n",
       "      <td>36.673801</td>\n",
       "      <td>127.485470</td>\n",
       "      <td>[(37.77432579461282, 128.90714180258507), (37....</td>\n",
       "    </tr>\n",
       "    <tr>\n",
       "      <td>408</td>\n",
       "      <td>A2300002</td>\n",
       "      <td>의료법인한마음의료재단하나병원</td>\n",
       "      <td>36.623474</td>\n",
       "      <td>127.430819</td>\n",
       "      <td>[(37.77432579461282, 128.90714180258507), (37....</td>\n",
       "    </tr>\n",
       "    <tr>\n",
       "      <td>409</td>\n",
       "      <td>A2302011</td>\n",
       "      <td>재단법인베스티안재단베스티안병원</td>\n",
       "      <td>36.636428</td>\n",
       "      <td>127.321641</td>\n",
       "      <td>[(37.77432579461282, 128.90714180258507), (37....</td>\n",
       "    </tr>\n",
       "    <tr>\n",
       "      <td>410</td>\n",
       "      <td>A2300010</td>\n",
       "      <td>건국대학교의료원충주병원</td>\n",
       "      <td>36.978975</td>\n",
       "      <td>127.928637</td>\n",
       "      <td>[(37.77432579461282, 128.90714180258507), (37....</td>\n",
       "    </tr>\n",
       "    <tr>\n",
       "      <td>411</td>\n",
       "      <td>A2300004</td>\n",
       "      <td>충청북도충주의료원</td>\n",
       "      <td>36.979567</td>\n",
       "      <td>127.970359</td>\n",
       "      <td>[(37.77432579461282, 128.90714180258507), (37....</td>\n",
       "    </tr>\n",
       "  </tbody>\n",
       "</table>\n",
       "<p>412 rows × 5 columns</p>\n",
       "</div>"
      ],
      "text/plain": [
       "         hpid             hname    x_coord     y_coord  \\\n",
       "0    A2200005        의료법인강릉동인병원  37.774326  128.907142   \n",
       "1    A2200011          강원도강릉의료원  37.749310  128.888796   \n",
       "2    A2200008            강릉아산병원  37.818427  128.857714   \n",
       "3    A2200038        근로복지공단동해병원  37.532323  129.105856   \n",
       "4    A2200003        의료법인동해동인병원  37.530007  129.107404   \n",
       "..        ...               ...        ...         ...   \n",
       "407  A2300008            청주성모병원  36.673801  127.485470   \n",
       "408  A2300002   의료법인한마음의료재단하나병원  36.623474  127.430819   \n",
       "409  A2302011  재단법인베스티안재단베스티안병원  36.636428  127.321641   \n",
       "410  A2300010      건국대학교의료원충주병원  36.978975  127.928637   \n",
       "411  A2300004         충청북도충주의료원  36.979567  127.970359   \n",
       "\n",
       "                                                   new  \n",
       "0    [(37.77432579461282, 128.90714180258507), (37....  \n",
       "1    [(37.77432579461282, 128.90714180258507), (37....  \n",
       "2    [(37.77432579461282, 128.90714180258507), (37....  \n",
       "3    [(37.77432579461282, 128.90714180258507), (37....  \n",
       "4    [(37.77432579461282, 128.90714180258507), (37....  \n",
       "..                                                 ...  \n",
       "407  [(37.77432579461282, 128.90714180258507), (37....  \n",
       "408  [(37.77432579461282, 128.90714180258507), (37....  \n",
       "409  [(37.77432579461282, 128.90714180258507), (37....  \n",
       "410  [(37.77432579461282, 128.90714180258507), (37....  \n",
       "411  [(37.77432579461282, 128.90714180258507), (37....  \n",
       "\n",
       "[412 rows x 5 columns]"
      ]
     },
     "execution_count": 143,
     "metadata": {},
     "output_type": "execute_result"
    }
   ],
   "source": [
    "df"
   ]
  },
  {
   "cell_type": "code",
   "execution_count": 89,
   "metadata": {},
   "outputs": [],
   "source": [
    "df.to_csv('C:\\\\Users\\\\park\\\\Desktop\\\\location3.csv', encoding= 'euc-kr')"
   ]
  },
  {
   "cell_type": "code",
   "execution_count": 104,
   "metadata": {},
   "outputs": [],
   "source": [
    "df[['x_coord','y_coord']] =df[['x_coord','y_coord']].astype('float64')"
   ]
  },
  {
   "cell_type": "code",
   "execution_count": 125,
   "metadata": {},
   "outputs": [
    {
     "data": {
      "text/plain": [
       "hpid        object\n",
       "hname       object\n",
       "x_coord    float64\n",
       "y_coord    float64\n",
       "dtype: object"
      ]
     },
     "execution_count": 125,
     "metadata": {},
     "output_type": "execute_result"
    }
   ],
   "source": [
    "df.dtypes"
   ]
  },
  {
   "cell_type": "code",
   "execution_count": 111,
   "metadata": {},
   "outputs": [
    {
     "data": {
      "text/html": [
       "<div>\n",
       "<style scoped>\n",
       "    .dataframe tbody tr th:only-of-type {\n",
       "        vertical-align: middle;\n",
       "    }\n",
       "\n",
       "    .dataframe tbody tr th {\n",
       "        vertical-align: top;\n",
       "    }\n",
       "\n",
       "    .dataframe thead th {\n",
       "        text-align: right;\n",
       "    }\n",
       "</style>\n",
       "<table border=\"1\" class=\"dataframe\">\n",
       "  <thead>\n",
       "    <tr style=\"text-align: right;\">\n",
       "      <th></th>\n",
       "      <th>x_coord</th>\n",
       "      <th>y_coord</th>\n",
       "    </tr>\n",
       "  </thead>\n",
       "  <tbody>\n",
       "    <tr>\n",
       "      <td>0</td>\n",
       "      <td>37.774326</td>\n",
       "      <td>128.907142</td>\n",
       "    </tr>\n",
       "    <tr>\n",
       "      <td>1</td>\n",
       "      <td>37.749310</td>\n",
       "      <td>128.888796</td>\n",
       "    </tr>\n",
       "    <tr>\n",
       "      <td>2</td>\n",
       "      <td>37.818427</td>\n",
       "      <td>128.857714</td>\n",
       "    </tr>\n",
       "    <tr>\n",
       "      <td>3</td>\n",
       "      <td>37.532323</td>\n",
       "      <td>129.105856</td>\n",
       "    </tr>\n",
       "    <tr>\n",
       "      <td>4</td>\n",
       "      <td>37.530007</td>\n",
       "      <td>129.107404</td>\n",
       "    </tr>\n",
       "    <tr>\n",
       "      <td>...</td>\n",
       "      <td>...</td>\n",
       "      <td>...</td>\n",
       "    </tr>\n",
       "    <tr>\n",
       "      <td>407</td>\n",
       "      <td>36.673801</td>\n",
       "      <td>127.485470</td>\n",
       "    </tr>\n",
       "    <tr>\n",
       "      <td>408</td>\n",
       "      <td>36.623474</td>\n",
       "      <td>127.430819</td>\n",
       "    </tr>\n",
       "    <tr>\n",
       "      <td>409</td>\n",
       "      <td>36.636428</td>\n",
       "      <td>127.321641</td>\n",
       "    </tr>\n",
       "    <tr>\n",
       "      <td>410</td>\n",
       "      <td>36.978975</td>\n",
       "      <td>127.928637</td>\n",
       "    </tr>\n",
       "    <tr>\n",
       "      <td>411</td>\n",
       "      <td>36.979567</td>\n",
       "      <td>127.970359</td>\n",
       "    </tr>\n",
       "  </tbody>\n",
       "</table>\n",
       "<p>412 rows × 2 columns</p>\n",
       "</div>"
      ],
      "text/plain": [
       "       x_coord     y_coord\n",
       "0    37.774326  128.907142\n",
       "1    37.749310  128.888796\n",
       "2    37.818427  128.857714\n",
       "3    37.532323  129.105856\n",
       "4    37.530007  129.107404\n",
       "..         ...         ...\n",
       "407  36.673801  127.485470\n",
       "408  36.623474  127.430819\n",
       "409  36.636428  127.321641\n",
       "410  36.978975  127.928637\n",
       "411  36.979567  127.970359\n",
       "\n",
       "[412 rows x 2 columns]"
      ]
     },
     "execution_count": 111,
     "metadata": {},
     "output_type": "execute_result"
    }
   ],
   "source": [
    "df[['x_coord','y_coord']]"
   ]
  },
  {
   "cell_type": "code",
   "execution_count": 128,
   "metadata": {},
   "outputs": [],
   "source": [
    "df['new'] = 0"
   ]
  },
  {
   "cell_type": "code",
   "execution_count": 140,
   "metadata": {},
   "outputs": [],
   "source": [
    "a = df.transform(lambda x: list(zip(df['x_coord'], df['y_coord'])))['new'][0:len(df['hpid'])]\n"
   ]
  },
  {
   "cell_type": "code",
   "execution_count": 141,
   "metadata": {},
   "outputs": [
    {
     "data": {
      "text/plain": [
       "0       (37.77432579461282, 128.90714180258507)\n",
       "1        (37.74931042017154, 128.8887963251862)\n",
       "2      (37.818426685036066, 128.85771413305145)\n",
       "3        (37.53232311891651, 129.1058560226859)\n",
       "4       (37.530006805605616, 129.1074043067605)\n",
       "                         ...                   \n",
       "407    (36.673801330174406, 127.48546957073641)\n",
       "408    (36.623474045244464, 127.43081864239413)\n",
       "409             (36.6364279047, 127.3216412104)\n",
       "410     (36.97897509717851, 127.92863660615964)\n",
       "411      (36.97956732195825, 127.9703586011334)\n",
       "Name: new, Length: 412, dtype: object"
      ]
     },
     "execution_count": 141,
     "metadata": {},
     "output_type": "execute_result"
    }
   ],
   "source": [
    "a"
   ]
  },
  {
   "cell_type": "code",
   "execution_count": 142,
   "metadata": {},
   "outputs": [
    {
     "data": {
      "text/html": [
       "<div>\n",
       "<style scoped>\n",
       "    .dataframe tbody tr th:only-of-type {\n",
       "        vertical-align: middle;\n",
       "    }\n",
       "\n",
       "    .dataframe tbody tr th {\n",
       "        vertical-align: top;\n",
       "    }\n",
       "\n",
       "    .dataframe thead th {\n",
       "        text-align: right;\n",
       "    }\n",
       "</style>\n",
       "<table border=\"1\" class=\"dataframe\">\n",
       "  <thead>\n",
       "    <tr style=\"text-align: right;\">\n",
       "      <th></th>\n",
       "      <th>hpid</th>\n",
       "      <th>hname</th>\n",
       "      <th>x_coord</th>\n",
       "      <th>y_coord</th>\n",
       "      <th>new</th>\n",
       "    </tr>\n",
       "  </thead>\n",
       "  <tbody>\n",
       "    <tr>\n",
       "      <td>0</td>\n",
       "      <td>A2200005</td>\n",
       "      <td>의료법인강릉동인병원</td>\n",
       "      <td>37.774326</td>\n",
       "      <td>128.907142</td>\n",
       "      <td>[(37.77432579461282, 128.90714180258507), (37....</td>\n",
       "    </tr>\n",
       "    <tr>\n",
       "      <td>1</td>\n",
       "      <td>A2200011</td>\n",
       "      <td>강원도강릉의료원</td>\n",
       "      <td>37.749310</td>\n",
       "      <td>128.888796</td>\n",
       "      <td>[(37.77432579461282, 128.90714180258507), (37....</td>\n",
       "    </tr>\n",
       "    <tr>\n",
       "      <td>2</td>\n",
       "      <td>A2200008</td>\n",
       "      <td>강릉아산병원</td>\n",
       "      <td>37.818427</td>\n",
       "      <td>128.857714</td>\n",
       "      <td>[(37.77432579461282, 128.90714180258507), (37....</td>\n",
       "    </tr>\n",
       "    <tr>\n",
       "      <td>3</td>\n",
       "      <td>A2200038</td>\n",
       "      <td>근로복지공단동해병원</td>\n",
       "      <td>37.532323</td>\n",
       "      <td>129.105856</td>\n",
       "      <td>[(37.77432579461282, 128.90714180258507), (37....</td>\n",
       "    </tr>\n",
       "    <tr>\n",
       "      <td>4</td>\n",
       "      <td>A2200003</td>\n",
       "      <td>의료법인동해동인병원</td>\n",
       "      <td>37.530007</td>\n",
       "      <td>129.107404</td>\n",
       "      <td>[(37.77432579461282, 128.90714180258507), (37....</td>\n",
       "    </tr>\n",
       "    <tr>\n",
       "      <td>...</td>\n",
       "      <td>...</td>\n",
       "      <td>...</td>\n",
       "      <td>...</td>\n",
       "      <td>...</td>\n",
       "      <td>...</td>\n",
       "    </tr>\n",
       "    <tr>\n",
       "      <td>407</td>\n",
       "      <td>A2300008</td>\n",
       "      <td>청주성모병원</td>\n",
       "      <td>36.673801</td>\n",
       "      <td>127.485470</td>\n",
       "      <td>[(37.77432579461282, 128.90714180258507), (37....</td>\n",
       "    </tr>\n",
       "    <tr>\n",
       "      <td>408</td>\n",
       "      <td>A2300002</td>\n",
       "      <td>의료법인한마음의료재단하나병원</td>\n",
       "      <td>36.623474</td>\n",
       "      <td>127.430819</td>\n",
       "      <td>[(37.77432579461282, 128.90714180258507), (37....</td>\n",
       "    </tr>\n",
       "    <tr>\n",
       "      <td>409</td>\n",
       "      <td>A2302011</td>\n",
       "      <td>재단법인베스티안재단베스티안병원</td>\n",
       "      <td>36.636428</td>\n",
       "      <td>127.321641</td>\n",
       "      <td>[(37.77432579461282, 128.90714180258507), (37....</td>\n",
       "    </tr>\n",
       "    <tr>\n",
       "      <td>410</td>\n",
       "      <td>A2300010</td>\n",
       "      <td>건국대학교의료원충주병원</td>\n",
       "      <td>36.978975</td>\n",
       "      <td>127.928637</td>\n",
       "      <td>[(37.77432579461282, 128.90714180258507), (37....</td>\n",
       "    </tr>\n",
       "    <tr>\n",
       "      <td>411</td>\n",
       "      <td>A2300004</td>\n",
       "      <td>충청북도충주의료원</td>\n",
       "      <td>36.979567</td>\n",
       "      <td>127.970359</td>\n",
       "      <td>[(37.77432579461282, 128.90714180258507), (37....</td>\n",
       "    </tr>\n",
       "  </tbody>\n",
       "</table>\n",
       "<p>412 rows × 5 columns</p>\n",
       "</div>"
      ],
      "text/plain": [
       "         hpid             hname    x_coord     y_coord  \\\n",
       "0    A2200005        의료법인강릉동인병원  37.774326  128.907142   \n",
       "1    A2200011          강원도강릉의료원  37.749310  128.888796   \n",
       "2    A2200008            강릉아산병원  37.818427  128.857714   \n",
       "3    A2200038        근로복지공단동해병원  37.532323  129.105856   \n",
       "4    A2200003        의료법인동해동인병원  37.530007  129.107404   \n",
       "..        ...               ...        ...         ...   \n",
       "407  A2300008            청주성모병원  36.673801  127.485470   \n",
       "408  A2300002   의료법인한마음의료재단하나병원  36.623474  127.430819   \n",
       "409  A2302011  재단법인베스티안재단베스티안병원  36.636428  127.321641   \n",
       "410  A2300010      건국대학교의료원충주병원  36.978975  127.928637   \n",
       "411  A2300004         충청북도충주의료원  36.979567  127.970359   \n",
       "\n",
       "                                                   new  \n",
       "0    [(37.77432579461282, 128.90714180258507), (37....  \n",
       "1    [(37.77432579461282, 128.90714180258507), (37....  \n",
       "2    [(37.77432579461282, 128.90714180258507), (37....  \n",
       "3    [(37.77432579461282, 128.90714180258507), (37....  \n",
       "4    [(37.77432579461282, 128.90714180258507), (37....  \n",
       "..                                                 ...  \n",
       "407  [(37.77432579461282, 128.90714180258507), (37....  \n",
       "408  [(37.77432579461282, 128.90714180258507), (37....  \n",
       "409  [(37.77432579461282, 128.90714180258507), (37....  \n",
       "410  [(37.77432579461282, 128.90714180258507), (37....  \n",
       "411  [(37.77432579461282, 128.90714180258507), (37....  \n",
       "\n",
       "[412 rows x 5 columns]"
      ]
     },
     "execution_count": 142,
     "metadata": {},
     "output_type": "execute_result"
    }
   ],
   "source": [
    "df"
   ]
  },
  {
   "cell_type": "code",
   "execution_count": 148,
   "metadata": {},
   "outputs": [
    {
     "data": {
      "text/plain": [
       "pandas.core.series.Series"
      ]
     },
     "execution_count": 148,
     "metadata": {},
     "output_type": "execute_result"
    }
   ],
   "source": [
    "type(a)"
   ]
  },
  {
   "cell_type": "code",
   "execution_count": 149,
   "metadata": {},
   "outputs": [],
   "source": [
    "b = a.tolist()"
   ]
  },
  {
   "cell_type": "code",
   "execution_count": 152,
   "metadata": {},
   "outputs": [
    {
     "data": {
      "text/plain": [
       "37.77432579461282"
      ]
     },
     "execution_count": 152,
     "metadata": {},
     "output_type": "execute_result"
    }
   ],
   "source": [
    "b[0][0]"
   ]
  },
  {
   "cell_type": "code",
   "execution_count": 2,
   "metadata": {},
   "outputs": [],
   "source": [
    "from haversine import haversine "
   ]
  },
  {
   "cell_type": "code",
   "execution_count": 3,
   "metadata": {},
   "outputs": [],
   "source": [
    "a = haversine((37.56668, 126.97843 ) , (37.53232312,129.105856))"
   ]
  },
  {
   "cell_type": "code",
   "execution_count": 155,
   "metadata": {},
   "outputs": [
    {
     "data": {
      "text/plain": [
       "6675.482013663871"
      ]
     },
     "execution_count": 155,
     "metadata": {},
     "output_type": "execute_result"
    }
   ],
   "source": [
    "a"
   ]
  },
  {
   "cell_type": "code",
   "execution_count": 11,
   "metadata": {},
   "outputs": [],
   "source": [
    "import geopandas as gpd\n",
    "import matplotlib.pyplot as plt\n"
   ]
  },
  {
   "cell_type": "code",
   "execution_count": 17,
   "metadata": {},
   "outputs": [],
   "source": [
    "plt.rcParams[\"font.family\"] = 'NanumGothic' # 한글폰트\n",
    "plt.rcParams[\"figure.figsize\"] = (10,10)\n",
    "plt.rcParams['axes.unicode_minus'] = False"
   ]
  },
  {
   "cell_type": "code",
   "execution_count": 18,
   "metadata": {},
   "outputs": [
    {
     "data": {
      "text/html": [
       "<div>\n",
       "<style scoped>\n",
       "    .dataframe tbody tr th:only-of-type {\n",
       "        vertical-align: middle;\n",
       "    }\n",
       "\n",
       "    .dataframe tbody tr th {\n",
       "        vertical-align: top;\n",
       "    }\n",
       "\n",
       "    .dataframe thead th {\n",
       "        text-align: right;\n",
       "    }\n",
       "</style>\n",
       "<table border=\"1\" class=\"dataframe\">\n",
       "  <thead>\n",
       "    <tr style=\"text-align: right;\">\n",
       "      <th></th>\n",
       "      <th>LI_CD</th>\n",
       "      <th>LI_ENG_NM</th>\n",
       "      <th>LI_KOR_NM</th>\n",
       "      <th>geometry</th>\n",
       "    </tr>\n",
       "  </thead>\n",
       "  <tbody>\n",
       "    <tr>\n",
       "      <td>0</td>\n",
       "      <td>2671025021</td>\n",
       "      <td>Dongbu-ri</td>\n",
       "      <td>µ¿ºÎ¸®</td>\n",
       "      <td>POLYGON ((1156572.843 1696804.747, 1156605.133...</td>\n",
       "    </tr>\n",
       "    <tr>\n",
       "      <td>1</td>\n",
       "      <td>2671025022</td>\n",
       "      <td>Gyo-ri</td>\n",
       "      <td>±³¸®</td>\n",
       "      <td>POLYGON ((1155731.257 1697372.017, 1155813.409...</td>\n",
       "    </tr>\n",
       "    <tr>\n",
       "      <td>2</td>\n",
       "      <td>2671025023</td>\n",
       "      <td>Sincheon-ri</td>\n",
       "      <td>½ÅÃµ¸®</td>\n",
       "      <td>POLYGON ((1157572.293 1695843.731, 1157584.155...</td>\n",
       "    </tr>\n",
       "    <tr>\n",
       "      <td>3</td>\n",
       "      <td>2671025024</td>\n",
       "      <td>Jukseong-ri</td>\n",
       "      <td>Á×¼º¸®</td>\n",
       "      <td>POLYGON ((1158010.875 1696998.510, 1158017.903...</td>\n",
       "    </tr>\n",
       "    <tr>\n",
       "      <td>4</td>\n",
       "      <td>2671025025</td>\n",
       "      <td>Seobu-ri</td>\n",
       "      <td>¼­ºÎ¸®</td>\n",
       "      <td>POLYGON ((1155615.822 1696551.022, 1155624.394...</td>\n",
       "    </tr>\n",
       "    <tr>\n",
       "      <td>...</td>\n",
       "      <td>...</td>\n",
       "      <td>...</td>\n",
       "      <td>...</td>\n",
       "      <td>...</td>\n",
       "    </tr>\n",
       "    <tr>\n",
       "      <td>15166</td>\n",
       "      <td>5013032022</td>\n",
       "      <td>Hacheon-ri</td>\n",
       "      <td>ÇÏÃµ¸®</td>\n",
       "      <td>POLYGON ((938519.344 1485011.794, 938523.445 1...</td>\n",
       "    </tr>\n",
       "    <tr>\n",
       "      <td>15167</td>\n",
       "      <td>5013032023</td>\n",
       "      <td>Seongeup-ri</td>\n",
       "      <td>¼ºÀ¾¸®</td>\n",
       "      <td>POLYGON ((935621.433 1487054.845, 935601.231 1...</td>\n",
       "    </tr>\n",
       "    <tr>\n",
       "      <td>15168</td>\n",
       "      <td>5013032024</td>\n",
       "      <td>Gasi-ri</td>\n",
       "      <td>°¡½Ã¸®</td>\n",
       "      <td>POLYGON ((921269.113 1489589.300, 921295.319 1...</td>\n",
       "    </tr>\n",
       "    <tr>\n",
       "      <td>15169</td>\n",
       "      <td>5013032025</td>\n",
       "      <td>Sehwa-ri</td>\n",
       "      <td>¼¼È­¸®</td>\n",
       "      <td>POLYGON ((935366.774 1479529.366, 935365.629 1...</td>\n",
       "    </tr>\n",
       "    <tr>\n",
       "      <td>15170</td>\n",
       "      <td>5013032026</td>\n",
       "      <td>Tosan-ri</td>\n",
       "      <td>Åä»ê¸®</td>\n",
       "      <td>POLYGON ((932794.827 1479767.288, 932771.111 1...</td>\n",
       "    </tr>\n",
       "  </tbody>\n",
       "</table>\n",
       "<p>15171 rows × 4 columns</p>\n",
       "</div>"
      ],
      "text/plain": [
       "            LI_CD    LI_ENG_NM LI_KOR_NM  \\\n",
       "0      2671025021    Dongbu-ri    µ¿ºÎ¸®   \n",
       "1      2671025022       Gyo-ri      ±³¸®   \n",
       "2      2671025023  Sincheon-ri    ½ÅÃµ¸®   \n",
       "3      2671025024  Jukseong-ri    Á×¼º¸®   \n",
       "4      2671025025     Seobu-ri    ¼­ºÎ¸®   \n",
       "...           ...          ...       ...   \n",
       "15166  5013032022   Hacheon-ri    ÇÏÃµ¸®   \n",
       "15167  5013032023  Seongeup-ri    ¼ºÀ¾¸®   \n",
       "15168  5013032024      Gasi-ri    °¡½Ã¸®   \n",
       "15169  5013032025     Sehwa-ri    ¼¼È­¸®   \n",
       "15170  5013032026     Tosan-ri    Åä»ê¸®   \n",
       "\n",
       "                                                geometry  \n",
       "0      POLYGON ((1156572.843 1696804.747, 1156605.133...  \n",
       "1      POLYGON ((1155731.257 1697372.017, 1155813.409...  \n",
       "2      POLYGON ((1157572.293 1695843.731, 1157584.155...  \n",
       "3      POLYGON ((1158010.875 1696998.510, 1158017.903...  \n",
       "4      POLYGON ((1155615.822 1696551.022, 1155624.394...  \n",
       "...                                                  ...  \n",
       "15166  POLYGON ((938519.344 1485011.794, 938523.445 1...  \n",
       "15167  POLYGON ((935621.433 1487054.845, 935601.231 1...  \n",
       "15168  POLYGON ((921269.113 1489589.300, 921295.319 1...  \n",
       "15169  POLYGON ((935366.774 1479529.366, 935365.629 1...  \n",
       "15170  POLYGON ((932794.827 1479767.288, 932771.111 1...  \n",
       "\n",
       "[15171 rows x 4 columns]"
      ]
     },
     "execution_count": 18,
     "metadata": {},
     "output_type": "execute_result"
    }
   ],
   "source": [
    "# read file\n",
    "shp_file = 'C:\\\\Users\\\\park\\\\Desktop\\\\TL_SCCO_LI.shp'\n",
    "shpd = gpd.read_file(shp_file)\n",
    "shpd"
   ]
  },
  {
   "cell_type": "code",
   "execution_count": 19,
   "metadata": {},
   "outputs": [
    {
     "data": {
      "text/plain": [
       "0        POLYGON ((1156572.843 1696804.747, 1156605.133...\n",
       "1        POLYGON ((1155731.257 1697372.017, 1155813.409...\n",
       "2        POLYGON ((1157572.293 1695843.731, 1157584.155...\n",
       "3        POLYGON ((1158010.875 1696998.510, 1158017.903...\n",
       "4        POLYGON ((1155615.822 1696551.022, 1155624.394...\n",
       "                               ...                        \n",
       "15166    POLYGON ((938519.344 1485011.794, 938523.445 1...\n",
       "15167    POLYGON ((935621.433 1487054.845, 935601.231 1...\n",
       "15168    POLYGON ((921269.113 1489589.300, 921295.319 1...\n",
       "15169    POLYGON ((935366.774 1479529.366, 935365.629 1...\n",
       "15170    POLYGON ((932794.827 1479767.288, 932771.111 1...\n",
       "Name: geometry, Length: 15171, dtype: geometry"
      ]
     },
     "execution_count": 19,
     "metadata": {},
     "output_type": "execute_result"
    }
   ],
   "source": [
    "shpd['geometry']"
   ]
  }
 ],
 "metadata": {
  "kernelspec": {
   "display_name": "Python 3",
   "language": "python",
   "name": "python3"
  },
  "language_info": {
   "codemirror_mode": {
    "name": "ipython",
    "version": 3
   },
   "file_extension": ".py",
   "mimetype": "text/x-python",
   "name": "python",
   "nbconvert_exporter": "python",
   "pygments_lexer": "ipython3",
   "version": "3.7.4"
  }
 },
 "nbformat": 4,
 "nbformat_minor": 2
}
